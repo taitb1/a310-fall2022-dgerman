{
  "nbformat": 4,
  "nbformat_minor": 0,
  "metadata": {
    "colab": {
      "provenance": [],
      "collapsed_sections": []
    },
    "kernelspec": {
      "name": "python3",
      "display_name": "Python 3"
    },
    "language_info": {
      "name": "python"
    }
  },
  "cells": [
    {
      "cell_type": "code",
      "execution_count": null,
      "metadata": {
        "colab": {
          "base_uri": "https://localhost:8080/"
        },
        "id": "FmUftCkKbBdt",
        "outputId": "0aaec6ed-27c5-4562-8fb5-e8320da6aaa3"
      },
      "outputs": [
        {
          "output_type": "stream",
          "name": "stdout",
          "text": [
            "2\n",
            "-2\n",
            "3\n",
            "-3\n"
          ]
        }
      ],
      "source": [
        "#1\n",
        "print(round(2.1))\n",
        "print(round(-2.1))\n",
        "print(round(2.9))\n",
        "print(round(-2.9))"
      ]
    },
    {
      "cell_type": "code",
      "source": [
        "#2\n",
        "a,b = (2.1, 2.9)\n",
        "assert (int  ( a), int  ( b)) == ( 2,  2), \"test 02.a failed\"\n",
        "assert (int  (-a), int  (-b)) == (-2, -2), \"test 02.b failed\""
      ],
      "metadata": {
        "id": "EzhQpaHubZbq"
      },
      "execution_count": null,
      "outputs": []
    },
    {
      "cell_type": "code",
      "source": [
        "#3\n",
        "assert (list(range(12, 16)) == [12, 13, 14, 15]), \"test 03.a failed\"\n",
        "assert (list(range(0, 10, 2)) == [0, 2, 4, 6, 8]), \"test 03.b failed\"\n",
        "assert (list(range(5, -1, -1)) == [5, 4, 3, 2, 1, 0]), \"test 03.c failed\""
      ],
      "metadata": {
        "id": "5AYSJeGycO7f"
      },
      "execution_count": null,
      "outputs": []
    },
    {
      "cell_type": "code",
      "source": [
        "#4\n",
        "import random\n",
        "assert 1 <= random.randint(1, 10) <= 10, \"test 04.a failed\"\n",
        "assert random.randint(1, 2) in [1, 2], \"test 04.a failed\""
      ],
      "metadata": {
        "id": "LJALcd1XczpO"
      },
      "execution_count": null,
      "outputs": []
    },
    {
      "cell_type": "code",
      "source": [
        "#5\n",
        "def what(n): # n > 0\n",
        "    if n == 1: return 1\n",
        "    else: return n + what(n-1)\n",
        "assert (what(10) == 55), \"test 05 failed\""
      ],
      "metadata": {
        "id": "FwiPyFbUdR4r"
      },
      "execution_count": null,
      "outputs": []
    },
    {
      "cell_type": "code",
      "source": [
        "#6\n",
        "def what(n, m):\n",
        "    if n < 0:\n",
        "        return -what(-n, m)\n",
        "    else:\n",
        "        if n == 1:\n",
        "            return m\n",
        "        else:\n",
        "            return m + what(n-1, m)\n",
        "assert (what(-5, 3) == -15), \"test 06 failed\""
      ],
      "metadata": {
        "id": "b-hnpKy0dp5S"
      },
      "execution_count": null,
      "outputs": []
    },
    {
      "cell_type": "code",
      "source": [
        "#7\n",
        "def what():\n",
        "    pass\n",
        "assert (what() == None), \"test 07 failed\""
      ],
      "metadata": {
        "id": "qvnWBryLeGfr"
      },
      "execution_count": null,
      "outputs": []
    },
    {
      "cell_type": "code",
      "source": [
        "#8\n",
        "a = [3, 1, 5, 6, 4, 2]\n",
        "for i in range(100):\n",
        "    assert(random.choice(a) in a), \"test 08 failed\""
      ],
      "metadata": {
        "id": "MEAkhJ0TeMoK"
      },
      "execution_count": null,
      "outputs": []
    },
    {
      "cell_type": "code",
      "source": [
        "#9\n",
        "b = sorted(a)\n",
        "random.shuffle(a)\n",
        "assert (sorted(a) == sorted(b)), \"test 09 failed\""
      ],
      "metadata": {
        "id": "TxxLTQ89hJzC"
      },
      "execution_count": null,
      "outputs": []
    },
    {
      "cell_type": "code",
      "source": [
        "#10\n",
        "try:\n",
        "  print(1 + 'a')\n",
        "except:\n",
        "  print('1a')"
      ],
      "metadata": {
        "colab": {
          "base_uri": "https://localhost:8080/"
        },
        "id": "BLMhkS_7hQyt",
        "outputId": "2726d826-028f-4933-9649-81ed7f4999a4"
      },
      "execution_count": null,
      "outputs": [
        {
          "output_type": "stream",
          "name": "stdout",
          "text": [
            "1a\n"
          ]
        }
      ]
    },
    {
      "cell_type": "code",
      "source": [
        "#11\n",
        "numberOfStreaks = 0 \n",
        "for experimentNumber in range(10000): \n",
        "    coins = []\n",
        "    for i in range(100): # one million flip coins overall \n",
        "        if random.randint(0, 1) == 0:\n",
        "            coins += 'H'\n",
        "        else:\n",
        "            coins += 'T'\n",
        "        coins = ''.join(coins)\n",
        "    # print(coins, end='\\n')\n",
        "    # Code that checks if there is a streak of 6 heads or tails in a row.\n",
        "    if \"H\" * 6 in coins or \"T\" * 6 in coins:\n",
        "        numberOfStreaks += 1"
      ],
      "metadata": {
        "id": "IMmA_Qp9hh1s"
      },
      "execution_count": null,
      "outputs": []
    },
    {
      "cell_type": "code",
      "source": [
        "#12\n",
        "matrix = {}\n",
        "value = 1\n",
        "for row in range(3):\n",
        "    for col in range(3):\n",
        "        matrix[row, col] = value\n",
        "        value += 1\n",
        "print(matrix)"
      ],
      "metadata": {
        "colab": {
          "base_uri": "https://localhost:8080/"
        },
        "id": "YKzSFWkQjOEF",
        "outputId": "3b027eb4-7525-4e34-d884-03ba994f660b"
      },
      "execution_count": null,
      "outputs": [
        {
          "output_type": "stream",
          "name": "stdout",
          "text": [
            "{(0, 0): 1, (0, 1): 2, (0, 2): 3, (1, 0): 4, (1, 1): 5, (1, 2): 6, (2, 0): 7, (2, 1): 8, (2, 2): 9}\n"
          ]
        }
      ]
    },
    {
      "cell_type": "code",
      "source": [
        "#13\n",
        "#13\n",
        "print(r'This is my dog/')\n",
        "\n",
        "print(\"\"\"Hello,\n",
        "\n",
        "Your dog has been arrested\n",
        "\n",
        "Best,\n",
        "Jeff\"\"\")\n",
        "\n",
        "def hi():\n",
        "  \"\"\"This is a multiline\n",
        "  comment to explain the function\"\"\"\n",
        "  print(\"hello\")"
      ],
      "metadata": {
        "id": "z2O7WFlejaOc",
        "colab": {
          "base_uri": "https://localhost:8080/"
        },
        "outputId": "5a03c415-5fe2-42c2-9b60-6aa1e9d688ff"
      },
      "execution_count": 19,
      "outputs": [
        {
          "output_type": "stream",
          "name": "stdout",
          "text": [
            "This is my dog/\n",
            "Hello,\n",
            "\n",
            "Your dog has been arrested\n",
            "\n",
            "Best,\n",
            "Jeff\n"
          ]
        }
      ]
    },
    {
      "cell_type": "code",
      "source": [
        "#14\n",
        "\n",
        "a = \"Hi\"\n",
        "a.isalpha()\n",
        "\n",
        "\"hi23\".isalnum()\n",
        "\n",
        "\"123\".isdecimal()\n",
        "\n",
        "###################\n",
        "\n",
        "\", \".join(['a', 'b', 'c'])\n",
        "\n",
        "###################\n",
        "\n",
        "\"My name is Branden\".split()"
      ],
      "metadata": {
        "colab": {
          "base_uri": "https://localhost:8080/"
        },
        "id": "rctSEzRTwyvN",
        "outputId": "a433d3de-624d-453a-e965-ad250ab6617b"
      },
      "execution_count": 22,
      "outputs": [
        {
          "output_type": "execute_result",
          "data": {
            "text/plain": [
              "['My', 'name', 'is', 'Branden']"
            ]
          },
          "metadata": {},
          "execution_count": 22
        }
      ]
    },
    {
      "cell_type": "code",
      "source": [
        "#15\n",
        "\n",
        "'Hello'.rjust(10)\n",
        "\n",
        "a = \"Hi,    Branden\"\n",
        "\n",
        "a.strip()\n",
        "\n",
        "ord('A')\n",
        "chr(73)"
      ],
      "metadata": {
        "colab": {
          "base_uri": "https://localhost:8080/",
          "height": 36
        },
        "id": "7ngJxCJryk35",
        "outputId": "8d915dbb-9098-4b97-8326-f57387713cc5"
      },
      "execution_count": 23,
      "outputs": [
        {
          "output_type": "execute_result",
          "data": {
            "text/plain": [
              "'I'"
            ],
            "application/vnd.google.colaboratory.intrinsic+json": {
              "type": "string"
            }
          },
          "metadata": {},
          "execution_count": 23
        }
      ]
    },
    {
      "cell_type": "code",
      "source": [],
      "metadata": {
        "id": "mYiNQFdVzRrP"
      },
      "execution_count": null,
      "outputs": []
    }
  ]
}